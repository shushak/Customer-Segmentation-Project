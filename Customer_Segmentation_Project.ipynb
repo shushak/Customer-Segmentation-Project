{
 "cells": [
  {
   "cell_type": "markdown",
   "id": "db29e847",
   "metadata": {},
   "source": [
    "## Importing libraries\n"
   ]
  },
  {
   "cell_type": "code",
   "execution_count": 97,
   "id": "0c70e9b3",
   "metadata": {},
   "outputs": [
    {
     "ename": "ModuleNotFoundError",
     "evalue": "No module named 'yellowbrick'",
     "output_type": "error",
     "traceback": [
      "\u001b[1;31m---------------------------------------------------------------------------\u001b[0m",
      "\u001b[1;31mModuleNotFoundError\u001b[0m                       Traceback (most recent call last)",
      "\u001b[1;32m<ipython-input-97-4801aede3ce7>\u001b[0m in \u001b[0;36m<module>\u001b[1;34m\u001b[0m\n\u001b[0;32m     21\u001b[0m \u001b[1;32mfrom\u001b[0m \u001b[0msklearn\u001b[0m\u001b[1;33m.\u001b[0m\u001b[0mcluster\u001b[0m \u001b[1;32mimport\u001b[0m \u001b[0mKMeans\u001b[0m\u001b[1;33m\u001b[0m\u001b[1;33m\u001b[0m\u001b[0m\n\u001b[0;32m     22\u001b[0m \u001b[1;32mfrom\u001b[0m \u001b[0msklearn\u001b[0m\u001b[1;33m.\u001b[0m\u001b[0mmetrics\u001b[0m \u001b[1;32mimport\u001b[0m \u001b[0msilhouette_score\u001b[0m\u001b[1;33m\u001b[0m\u001b[1;33m\u001b[0m\u001b[0m\n\u001b[1;32m---> 23\u001b[1;33m \u001b[1;32mfrom\u001b[0m \u001b[0myellowbrick\u001b[0m\u001b[1;33m.\u001b[0m\u001b[0mcluster\u001b[0m \u001b[1;32mimport\u001b[0m \u001b[0mSilhouetteVisualizer\u001b[0m\u001b[1;33m\u001b[0m\u001b[1;33m\u001b[0m\u001b[0m\n\u001b[0m\u001b[0;32m     24\u001b[0m \u001b[1;32mif\u001b[0m \u001b[1;32mnot\u001b[0m \u001b[0msys\u001b[0m\u001b[1;33m.\u001b[0m\u001b[0mwarnoptions\u001b[0m\u001b[1;33m:\u001b[0m\u001b[1;33m\u001b[0m\u001b[1;33m\u001b[0m\u001b[0m\n\u001b[0;32m     25\u001b[0m     \u001b[0mwarnings\u001b[0m\u001b[1;33m.\u001b[0m\u001b[0msimplefilter\u001b[0m\u001b[1;33m(\u001b[0m\u001b[1;34m\"ignore\"\u001b[0m\u001b[1;33m)\u001b[0m\u001b[1;33m\u001b[0m\u001b[1;33m\u001b[0m\u001b[0m\n",
      "\u001b[1;31mModuleNotFoundError\u001b[0m: No module named 'yellowbrick'"
     ]
    }
   ],
   "source": [
    "#Importing the Libraries\n",
    "import numpy as np\n",
    "import pandas as pd\n",
    "import datetime\n",
    "import matplotlib\n",
    "import matplotlib.pyplot as plt\n",
    "from matplotlib import colors\n",
    "import seaborn as sns\n",
    "from sklearn.preprocessing import LabelEncoder\n",
    "from sklearn.preprocessing import StandardScaler\n",
    "from sklearn.decomposition import PCA\n",
    "from sklearn.cluster import KMeans\n",
    "import matplotlib.pyplot as plt, numpy as np\n",
    "from mpl_toolkits.mplot3d import Axes3D\n",
    "from sklearn.cluster import AgglomerativeClustering\n",
    "from matplotlib.colors import ListedColormap\n",
    "from sklearn import metrics\n",
    "import warnings\n",
    "import sys\n",
    "from datetime import datetime\n",
    "from sklearn.cluster import KMeans\n",
    "from sklearn.metrics import silhouette_score\n",
    "from yellowbrick.cluster import SilhouetteVisualizer\n",
    "if not sys.warnoptions:\n",
    "    warnings.simplefilter(\"ignore\")\n",
    "np.random.seed(42)"
   ]
  },
  {
   "cell_type": "markdown",
   "id": "4ee4f82a",
   "metadata": {},
   "source": [
    "## Loading the marketing campaign dataset"
   ]
  },
  {
   "cell_type": "code",
   "execution_count": null,
   "id": "66dfa8b3",
   "metadata": {},
   "outputs": [],
   "source": [
    "df=pd.read_csv(\"Data/marketing_campaign.csv\",sep=\"\\t\")\n",
    "print(\"number of datapoints:\",len(data))"
   ]
  },
  {
   "cell_type": "markdown",
   "id": "49745030",
   "metadata": {},
   "source": [
    "## Exploratory Data Analysis"
   ]
  },
  {
   "cell_type": "code",
   "execution_count": null,
   "id": "3b6d8b26",
   "metadata": {
    "scrolled": true
   },
   "outputs": [],
   "source": [
    "df.head()"
   ]
  },
  {
   "cell_type": "code",
   "execution_count": null,
   "id": "8d6880ee",
   "metadata": {},
   "outputs": [],
   "source": [
    "#check unique values in each column\n",
    "df.nunique()"
   ]
  },
  {
   "cell_type": "code",
   "execution_count": null,
   "id": "32c8bf7a",
   "metadata": {},
   "outputs": [],
   "source": [
    "## we see that Z_CostContact and Z_Revenue have same value, we drop these two columns\n",
    "df = df.drop(columns = ['Z_CostContact', 'Z_Revenue'], axis = 1)"
   ]
  },
  {
   "cell_type": "code",
   "execution_count": null,
   "id": "7b0b4892",
   "metadata": {},
   "outputs": [],
   "source": [
    "#check for missing values\n",
    "df.info() "
   ]
  },
  {
   "cell_type": "code",
   "execution_count": null,
   "id": "26a6ea42",
   "metadata": {},
   "outputs": [],
   "source": [
    "#some missing values are in income column\n",
    "#after dropping missing values, we have 2216 rows\n",
    "df.dropna(inplace=True)"
   ]
  },
  {
   "cell_type": "code",
   "execution_count": null,
   "id": "640ce65f",
   "metadata": {},
   "outputs": [],
   "source": [
    "#after dropping missing values, we have 2216 rows\n",
    "len(df)"
   ]
  },
  {
   "cell_type": "code",
   "execution_count": null,
   "id": "c7993a5b",
   "metadata": {},
   "outputs": [],
   "source": [
    "#check for duplicates\n",
    "df.duplicated().sum()"
   ]
  },
  {
   "cell_type": "markdown",
   "id": "27a4b151",
   "metadata": {},
   "source": [
    "**Ctearing new features**"
   ]
  },
  {
   "cell_type": "code",
   "execution_count": null,
   "id": "90d849a3",
   "metadata": {},
   "outputs": [],
   "source": [
    "#calculate customer age using year of birth\n",
    "df[\"Age\"] = 2021-df[\"Year_Birth\"]"
   ]
  },
  {
   "cell_type": "code",
   "execution_count": null,
   "id": "3342d4bc",
   "metadata": {
    "scrolled": true
   },
   "outputs": [],
   "source": [
    "#deal with outliers in Age column\n",
    "df[\"Age\"].max()"
   ]
  },
  {
   "cell_type": "code",
   "execution_count": null,
   "id": "3843c76a",
   "metadata": {},
   "outputs": [],
   "source": []
  },
  {
   "cell_type": "code",
   "execution_count": null,
   "id": "68a8ebfd",
   "metadata": {},
   "outputs": [],
   "source": [
    "#calculate total spent using amount spent on different food items\n",
    "df[\"total_spent\"] = df[\"MntWines\"]+ df[\"MntFruits\"]+ df[\"MntMeatProducts\"]+ df[\"MntFishProducts\"]+ df[\"MntSweetProducts\"]+ df[\"MntGoldProds\"]"
   ]
  },
  {
   "cell_type": "code",
   "execution_count": null,
   "id": "65a9c7f0",
   "metadata": {},
   "outputs": [],
   "source": [
    "df[\"total_spent\"]"
   ]
  },
  {
   "cell_type": "code",
   "execution_count": null,
   "id": "3a9d6ac9",
   "metadata": {},
   "outputs": [],
   "source": [
    "data[\"Dt_Customer\"] = pd.to_datetime(data[\"Dt_Customer\"])"
   ]
  },
  {
   "cell_type": "code",
   "execution_count": null,
   "id": "a3112132",
   "metadata": {},
   "outputs": [],
   "source": [
    "data[\"Dt_Customer\"].max()"
   ]
  },
  {
   "cell_type": "code",
   "execution_count": null,
   "id": "ad79140c",
   "metadata": {},
   "outputs": [],
   "source": [
    "df['Dt_Customer'] = pd.to_datetime(df['Dt_Customer'], dayfirst=True)\n",
    "# the lastest day of the date of 2014-12-06, let's assume that the dataset was extracted on 2014-12-07\n",
    "# thus the days of registion is calculated as below:\n",
    "\n",
    "df['last_date'] = '07/12/2014'\n",
    "df['last_date'] = pd.to_datetime(df['last_date'])\n",
    "df['regist_days'] = df['last_date'] - df['Dt_Customer']\n",
    "df['regist_days'] = df['regist_days'].dt.days\n",
    "df.head()"
   ]
  },
  {
   "cell_type": "code",
   "execution_count": null,
   "id": "ae0fb843",
   "metadata": {},
   "outputs": [],
   "source": [
    "df = df.drop(columns = ['last_date'], axis = 1)\n",
    "df.head()"
   ]
  },
  {
   "cell_type": "code",
   "execution_count": null,
   "id": "7fb2a0b9",
   "metadata": {},
   "outputs": [],
   "source": [
    "df.columns"
   ]
  },
  {
   "cell_type": "code",
   "execution_count": null,
   "id": "04d35546",
   "metadata": {},
   "outputs": [],
   "source": [
    "df[\"total_purchase\"] = df[\"NumWebPurchases\"]+ df[\"NumStorePurchases\"]"
   ]
  },
  {
   "cell_type": "code",
   "execution_count": null,
   "id": "8d57e7c9",
   "metadata": {},
   "outputs": [],
   "source": [
    "df[\"total_purchase\"]"
   ]
  },
  {
   "cell_type": "code",
   "execution_count": null,
   "id": "f8c79755",
   "metadata": {},
   "outputs": [],
   "source": [
    "df['Education'].value_counts().plot(kind=\"bar\")"
   ]
  },
  {
   "cell_type": "code",
   "execution_count": null,
   "id": "d7bc80df",
   "metadata": {},
   "outputs": [],
   "source": [
    "df['Marital_Status'].value_counts().plot(kind=\"bar\")"
   ]
  },
  {
   "cell_type": "code",
   "execution_count": null,
   "id": "ffba2502",
   "metadata": {},
   "outputs": [],
   "source": [
    "df['Marital_Status'].value_counts()"
   ]
  },
  {
   "cell_type": "code",
   "execution_count": 99,
   "id": "64e96f4f",
   "metadata": {},
   "outputs": [],
   "source": [
    "def marital_status(x):\n",
    "    if x in ['Married', 'Together']:\n",
    "        return 'relationship'\n",
    "    elif x in[\"Single\",\"Alone\"]:\n",
    "        return 'dingle'\n",
    "    elif x in [\"Divorced\"]:\n",
    "         return \"divorced\"\n",
    "    elif x in [\"Widow\"]:\n",
    "         return \"widow\"\n",
    "    else:\n",
    "        return \"other\""
   ]
  },
  {
   "cell_type": "code",
   "execution_count": 100,
   "id": "c576b12b",
   "metadata": {},
   "outputs": [],
   "source": [
    "df['Marital_Status'] = list(map(marital_status, df['Marital_Status']))"
   ]
  },
  {
   "cell_type": "code",
   "execution_count": 101,
   "id": "012eda77",
   "metadata": {},
   "outputs": [
    {
     "data": {
      "text/plain": [
       "array(['other'], dtype=object)"
      ]
     },
     "execution_count": 101,
     "metadata": {},
     "output_type": "execute_result"
    }
   ],
   "source": [
    "df['Marital_Status'].unique()"
   ]
  },
  {
   "cell_type": "code",
   "execution_count": null,
   "id": "b1b815a9",
   "metadata": {},
   "outputs": [],
   "source": []
  }
 ],
 "metadata": {
  "kernelspec": {
   "display_name": "Python 3",
   "language": "python",
   "name": "python3"
  },
  "language_info": {
   "codemirror_mode": {
    "name": "ipython",
    "version": 3
   },
   "file_extension": ".py",
   "mimetype": "text/x-python",
   "name": "python",
   "nbconvert_exporter": "python",
   "pygments_lexer": "ipython3",
   "version": "3.8.8"
  }
 },
 "nbformat": 4,
 "nbformat_minor": 5
}
